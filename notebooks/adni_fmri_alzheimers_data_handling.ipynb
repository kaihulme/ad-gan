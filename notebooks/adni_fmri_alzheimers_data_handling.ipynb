{
 "metadata": {
  "language_info": {
   "codemirror_mode": {
    "name": "ipython",
    "version": 3
   },
   "file_extension": ".py",
   "mimetype": "text/x-python",
   "name": "python",
   "nbconvert_exporter": "python",
   "pygments_lexer": "ipython3",
   "version": "3.6.9-final"
  },
  "orig_nbformat": 2,
  "kernelspec": {
   "name": "python3",
   "display_name": "Python 3.6.9 64-bit",
   "metadata": {
    "interpreter": {
     "hash": "4cd7ab41f5fca4b9b44701077e38c5ffd31fe66a6cab21e0214b68d958d0e462"
    }
   }
  }
 },
 "nbformat": 4,
 "nbformat_minor": 2,
 "cells": [
  {
   "source": [
    "# ADNI Alzheimer's Neuroiamging Dataset Handling"
   ],
   "cell_type": "markdown",
   "metadata": {}
  },
  {
   "cell_type": "code",
   "execution_count": 11,
   "metadata": {},
   "outputs": [],
   "source": [
    "import os\n",
    "import shutil\n",
    "import cv2 as cv\n",
    "import numpy as np\n",
    "import pandas as pd\n",
    "import matplotlib.pyplot as plt\n"
   ]
  },
  {
   "source": [
    "We shall unnest the files by gathering each of the file paths as a flattened list."
   ],
   "cell_type": "markdown",
   "metadata": {}
  },
  {
   "source": [
    "def join_listdir(a, bs):\n",
    "    return [os.path.join(a, b) for b in bs]\n",
    "\n",
    "def list_listdir(dirs, paths=[]):\n",
    "    return [\n",
    "        paths + list_listdir(join_listdir(item, os.listdir(item)), paths) if os.path.isdir(item)\n",
    "        else paths + [item]\n",
    "        for item in dirs\n",
    "    ]\n",
    "\n",
    "def flatten(xs):\n",
    "    if len(xs) == 0:\n",
    "        return xs\n",
    "    if isinstance(xs[0], list):\n",
    "        return flatten(xs[0]) + flatten(xs[1:])\n",
    "    return xs[:1] + flatten(xs[1:])\n",
    "\n",
    "data_dir = \"/Data/adni_frmi_alzheimers/data/ADNI_original\"\n",
    "paths = list_listdir([data_dir])\n",
    "paths = flatten(paths)"
   ],
   "cell_type": "code",
   "metadata": {},
   "execution_count": 12,
   "outputs": []
  },
  {
   "source": [
    "Now for each path we can copy to the new target destination."
   ],
   "cell_type": "markdown",
   "metadata": {}
  },
  {
   "cell_type": "code",
   "execution_count": 40,
   "metadata": {},
   "outputs": [],
   "source": [
    "def get_target_path(path):\n",
    "    fmri_nii_dir = \"/Data/adni_frmi_alzheimers/data/ADNI/fmri_nii\"\n",
    "    meta_xml_dir = \"/Data/adni_frmi_alzheimers/data/ADNI/meta_xml\"\n",
    "    filename = os.path.basename(path)\n",
    "    if filename[-4:] == '.nii':\n",
    "        return os.path.join(fmri_nii_dir, filename)\n",
    "    elif filename[-4:] == '.xml':\n",
    "        return os.path.join(meta_xml_dir, filename)\n",
    "    print(f\"ERROR: unrecognised file type (.{filename.split('.')[1]})\")\n",
    "\n",
    "for path in paths:\n",
    "    target_path = get_target_path(path)\n",
    "    shutil.copyfile(path, target_path)"
   ]
  },
  {
   "source": [
    "As the fMRIs are .nii volumes we will need to convert them to a standard 2D image for training.\n",
    "\n",
    "For now we shall just take the middle slice of each volume."
   ],
   "cell_type": "markdown",
   "metadata": {}
  },
  {
   "cell_type": "code",
   "execution_count": null,
   "metadata": {},
   "outputs": [],
   "source": []
  }
 ]
}