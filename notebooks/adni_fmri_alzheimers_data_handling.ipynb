{
 "metadata": {
  "language_info": {
   "codemirror_mode": {
    "name": "ipython",
    "version": 3
   },
   "file_extension": ".py",
   "mimetype": "text/x-python",
   "name": "python",
   "nbconvert_exporter": "python",
   "pygments_lexer": "ipython3",
   "version": "3.6.9-final"
  },
  "orig_nbformat": 2,
  "kernelspec": {
   "name": "python3",
   "display_name": "Python 3.6.9 64-bit",
   "metadata": {
    "interpreter": {
     "hash": "4cd7ab41f5fca4b9b44701077e38c5ffd31fe66a6cab21e0214b68d958d0e462"
    }
   }
  }
 },
 "nbformat": 4,
 "nbformat_minor": 2,
 "cells": [
  {
   "source": [
    "# ADNI Alzheimer's Neuroiamging Dataset Handling"
   ],
   "cell_type": "markdown",
   "metadata": {}
  },
  {
   "cell_type": "code",
   "execution_count": 1,
   "metadata": {},
   "outputs": [],
   "source": [
    "import os\n",
    "import shutil\n",
    "import cv2 as cv\n",
    "import numpy as np\n",
    "import pandas as pd\n",
    "import nibabel as nib\n",
    "import matplotlib.pyplot as plt\n",
    "import xml.etree.ElementTree as ET\n",
    "from tqdm import tqdm\n"
   ]
  },
  {
   "source": [
    "We shall unnest the files by gathering each of the file paths as a flattened list."
   ],
   "cell_type": "markdown",
   "metadata": {}
  },
  {
   "source": [
    "def join_listdir(a, bs):\n",
    "    return [os.path.join(a, b) for b in bs]\n",
    "\n",
    "def list_listdir(dirs, paths=[]):\n",
    "    return [\n",
    "        paths + list_listdir(join_listdir(item, os.listdir(item)), paths) if os.path.isdir(item)\n",
    "        else paths + [item]\n",
    "        for item in dirs\n",
    "    ]\n",
    "\n",
    "def flatten(xs):\n",
    "    if len(xs) == 0:\n",
    "        return xs\n",
    "    if isinstance(xs[0], list):\n",
    "        return flatten(xs[0]) + flatten(xs[1:])\n",
    "    return xs[:1] + flatten(xs[1:])\n",
    "\n",
    "data_dir = \"/Data/adni_frmi_alzheimers/data/ADNI_original\"\n",
    "paths = list_listdir([data_dir])\n",
    "paths = flatten(paths)"
   ],
   "cell_type": "code",
   "metadata": {},
   "execution_count": 3,
   "outputs": []
  },
  {
   "source": [
    "Now for each path we can copy to the new target destination."
   ],
   "cell_type": "markdown",
   "metadata": {}
  },
  {
   "cell_type": "code",
   "execution_count": 40,
   "metadata": {},
   "outputs": [],
   "source": [
    "def get_target_path(path):\n",
    "    fmri_nii_dir = \"/Data/adni_frmi_alzheimers/data/ADNI/fmri_nii\"\n",
    "    meta_xml_dir = \"/Data/adni_frmi_alzheimers/data/ADNI/meta_xml\"\n",
    "    filename = os.path.basename(path)\n",
    "    if filename[-4:] == '.nii':\n",
    "        return os.path.join(fmri_nii_dir, filename)\n",
    "    elif filename[-4:] == '.xml':\n",
    "        return os.path.join(meta_xml_dir, filename)\n",
    "    print(f\"ERROR: unrecognised file type (.{filename.split('.')[1]})\")\n",
    "\n",
    "for path in tqdm(paths):\n",
    "    target_path = get_target_path(path)\n",
    "    shutil.copyfile(path, target_path)"
   ]
  },
  {
   "source": [
    "As the fMRIs are .nii volumes we will need to convert them to a standard 2D image for training.\n",
    "\n",
    "For now we shall just take the middle slice of each volume.\n",
    "\n",
    "We will also reshape each to be the minimum size of the dataset and normalise pixel values to (0-255)."
   ],
   "cell_type": "markdown",
   "metadata": {}
  },
  {
   "cell_type": "code",
   "execution_count": 99,
   "metadata": {},
   "outputs": [
    {
     "output_type": "stream",
     "name": "stderr",
     "text": [
      "100%|██████████| 1075/1075 [04:31<00:00,  3.95it/s]\n"
     ]
    }
   ],
   "source": [
    "nii_paths = [path for path in paths if path[-4:] == '.nii']\n",
    "img_dir = \"/Data/adni_frmi_alzheimers/data/ADNI/fmri_img/mid_slice_side\"\n",
    "\n",
    "# for nii_path in nii_paths:\n",
    "for nii_path in tqdm(nii_paths):\n",
    "    nii = nib.load(nii_path)\n",
    "    volume = nii.get_fdata()\n",
    "    mid_slice = volume[:, :, volume.shape[2] // 2]\n",
    "    filename = os.path.basename(nii_path)[:-4] + \".png\"\n",
    "    img_path = os.path.join(img_dir, filename)\n",
    "    # normalise and ensure all images are 192x192\n",
    "    if not mid_slice.shape == (192, 192):\n",
    "        mid_slice = cv.resize(mid_slice, (192, 192))\n",
    "    mid_slice *= 255 / mid_slice.max()\n",
    "    cv.imwrite(img_path, mid_slice)\n",
    "    "
   ]
  },
  {
   "source": [
    "Now we shall handle the metadata."
   ],
   "cell_type": "markdown",
   "metadata": {}
  },
  {
   "cell_type": "code",
   "execution_count": 7,
   "metadata": {},
   "outputs": [
    {
     "output_type": "execute_result",
     "data": {
      "text/plain": [
       "     subjectIdentifier subjectAge ageQualifier subjectSex weightKg postMortem  \\\n",
       "0           002_S_0295    84.9041            Y          M     74.5          F   \n",
       "1           002_S_0295    84.9041            Y          M     74.5          F   \n",
       "2           002_S_0413    76.3863            Y          F     61.4          F   \n",
       "3           002_S_0413    76.3863            Y          F     61.4          F   \n",
       "4           002_S_0559    79.3699            Y          M     93.1          F   \n",
       "...                ...        ...          ...        ...      ...        ...   \n",
       "1070        073_S_0089    65.1973            Y          M     93.5          F   \n",
       "1071        073_S_0089    65.1973            Y          M     93.5          F   \n",
       "1072        073_S_0311    78.1918            Y          F     79.6          F   \n",
       "1073        073_S_0311    78.1918            Y          F     79.6          F   \n",
       "1074        073_S_0312    82.9589            Y          M     54.5          F   \n",
       "\n",
       "     assess_MMSCORE assess_GDTOTAL assess_CDGLOBAL projectIdentifier  \\\n",
       "0              28.0            1.0             0.0              ADNI   \n",
       "1              28.0            1.0             0.0              ADNI   \n",
       "2              29.0            0.0             0.0              ADNI   \n",
       "3              29.0            0.0             0.0              ADNI   \n",
       "4              30.0            2.0             0.0              ADNI   \n",
       "...             ...            ...             ...               ...   \n",
       "1070           30.0            0.0             0.0              ADNI   \n",
       "1071           30.0            0.0             0.0              ADNI   \n",
       "1072           30.0            0.0             0.0              ADNI   \n",
       "1073           30.0            0.0             0.0              ADNI   \n",
       "1074           30.0            0.0             0.0              ADNI   \n",
       "\n",
       "     studyIdentifier visitIdentifier researchGroup  \n",
       "0               3566  ADNI Screening            CN  \n",
       "1               3566  ADNI Screening            CN  \n",
       "2               3697  ADNI Screening            CN  \n",
       "3               3697  ADNI Screening            CN  \n",
       "4               3978  ADNI Screening            CN  \n",
       "...              ...             ...           ...  \n",
       "1070            2957  ADNI Screening            CN  \n",
       "1071            2957  ADNI Screening            CN  \n",
       "1072            4040  ADNI Screening            CN  \n",
       "1073            4040  ADNI Screening            CN  \n",
       "1074            4042  ADNI Screening            CN  \n",
       "\n",
       "[1075 rows x 13 columns]"
      ],
      "text/html": "<div>\n<style scoped>\n    .dataframe tbody tr th:only-of-type {\n        vertical-align: middle;\n    }\n\n    .dataframe tbody tr th {\n        vertical-align: top;\n    }\n\n    .dataframe thead th {\n        text-align: right;\n    }\n</style>\n<table border=\"1\" class=\"dataframe\">\n  <thead>\n    <tr style=\"text-align: right;\">\n      <th></th>\n      <th>subjectIdentifier</th>\n      <th>subjectAge</th>\n      <th>ageQualifier</th>\n      <th>subjectSex</th>\n      <th>weightKg</th>\n      <th>postMortem</th>\n      <th>assess_MMSCORE</th>\n      <th>assess_GDTOTAL</th>\n      <th>assess_CDGLOBAL</th>\n      <th>projectIdentifier</th>\n      <th>studyIdentifier</th>\n      <th>visitIdentifier</th>\n      <th>researchGroup</th>\n    </tr>\n  </thead>\n  <tbody>\n    <tr>\n      <th>0</th>\n      <td>002_S_0295</td>\n      <td>84.9041</td>\n      <td>Y</td>\n      <td>M</td>\n      <td>74.5</td>\n      <td>F</td>\n      <td>28.0</td>\n      <td>1.0</td>\n      <td>0.0</td>\n      <td>ADNI</td>\n      <td>3566</td>\n      <td>ADNI Screening</td>\n      <td>CN</td>\n    </tr>\n    <tr>\n      <th>1</th>\n      <td>002_S_0295</td>\n      <td>84.9041</td>\n      <td>Y</td>\n      <td>M</td>\n      <td>74.5</td>\n      <td>F</td>\n      <td>28.0</td>\n      <td>1.0</td>\n      <td>0.0</td>\n      <td>ADNI</td>\n      <td>3566</td>\n      <td>ADNI Screening</td>\n      <td>CN</td>\n    </tr>\n    <tr>\n      <th>2</th>\n      <td>002_S_0413</td>\n      <td>76.3863</td>\n      <td>Y</td>\n      <td>F</td>\n      <td>61.4</td>\n      <td>F</td>\n      <td>29.0</td>\n      <td>0.0</td>\n      <td>0.0</td>\n      <td>ADNI</td>\n      <td>3697</td>\n      <td>ADNI Screening</td>\n      <td>CN</td>\n    </tr>\n    <tr>\n      <th>3</th>\n      <td>002_S_0413</td>\n      <td>76.3863</td>\n      <td>Y</td>\n      <td>F</td>\n      <td>61.4</td>\n      <td>F</td>\n      <td>29.0</td>\n      <td>0.0</td>\n      <td>0.0</td>\n      <td>ADNI</td>\n      <td>3697</td>\n      <td>ADNI Screening</td>\n      <td>CN</td>\n    </tr>\n    <tr>\n      <th>4</th>\n      <td>002_S_0559</td>\n      <td>79.3699</td>\n      <td>Y</td>\n      <td>M</td>\n      <td>93.1</td>\n      <td>F</td>\n      <td>30.0</td>\n      <td>2.0</td>\n      <td>0.0</td>\n      <td>ADNI</td>\n      <td>3978</td>\n      <td>ADNI Screening</td>\n      <td>CN</td>\n    </tr>\n    <tr>\n      <th>...</th>\n      <td>...</td>\n      <td>...</td>\n      <td>...</td>\n      <td>...</td>\n      <td>...</td>\n      <td>...</td>\n      <td>...</td>\n      <td>...</td>\n      <td>...</td>\n      <td>...</td>\n      <td>...</td>\n      <td>...</td>\n      <td>...</td>\n    </tr>\n    <tr>\n      <th>1070</th>\n      <td>073_S_0089</td>\n      <td>65.1973</td>\n      <td>Y</td>\n      <td>M</td>\n      <td>93.5</td>\n      <td>F</td>\n      <td>30.0</td>\n      <td>0.0</td>\n      <td>0.0</td>\n      <td>ADNI</td>\n      <td>2957</td>\n      <td>ADNI Screening</td>\n      <td>CN</td>\n    </tr>\n    <tr>\n      <th>1071</th>\n      <td>073_S_0089</td>\n      <td>65.1973</td>\n      <td>Y</td>\n      <td>M</td>\n      <td>93.5</td>\n      <td>F</td>\n      <td>30.0</td>\n      <td>0.0</td>\n      <td>0.0</td>\n      <td>ADNI</td>\n      <td>2957</td>\n      <td>ADNI Screening</td>\n      <td>CN</td>\n    </tr>\n    <tr>\n      <th>1072</th>\n      <td>073_S_0311</td>\n      <td>78.1918</td>\n      <td>Y</td>\n      <td>F</td>\n      <td>79.6</td>\n      <td>F</td>\n      <td>30.0</td>\n      <td>0.0</td>\n      <td>0.0</td>\n      <td>ADNI</td>\n      <td>4040</td>\n      <td>ADNI Screening</td>\n      <td>CN</td>\n    </tr>\n    <tr>\n      <th>1073</th>\n      <td>073_S_0311</td>\n      <td>78.1918</td>\n      <td>Y</td>\n      <td>F</td>\n      <td>79.6</td>\n      <td>F</td>\n      <td>30.0</td>\n      <td>0.0</td>\n      <td>0.0</td>\n      <td>ADNI</td>\n      <td>4040</td>\n      <td>ADNI Screening</td>\n      <td>CN</td>\n    </tr>\n    <tr>\n      <th>1074</th>\n      <td>073_S_0312</td>\n      <td>82.9589</td>\n      <td>Y</td>\n      <td>M</td>\n      <td>54.5</td>\n      <td>F</td>\n      <td>30.0</td>\n      <td>0.0</td>\n      <td>0.0</td>\n      <td>ADNI</td>\n      <td>4042</td>\n      <td>ADNI Screening</td>\n      <td>CN</td>\n    </tr>\n  </tbody>\n</table>\n<p>1075 rows × 13 columns</p>\n</div>"
     },
     "metadata": {},
     "execution_count": 7
    }
   ],
   "source": [
    "def dict_from_xml(root):\n",
    "    return {\n",
    "        \"subjectIdentifier\" : root[0][3][0].text,\n",
    "        \"subjectAge\" : root[0][3][6][1].text,\n",
    "        \"ageQualifier\" : root[0][3][6][2].text,\n",
    "        \"subjectSex\" : root[0][3][2].text,\n",
    "        \"weightKg\" : root[0][3][6][3].text,\n",
    "        \"postMortem\" : root[0][3][6][4].text,\n",
    "        \"assess_MMSCORE\" : root[0][3][5][1][0][0].text,\n",
    "        \"assess_GDTOTAL\" : root[0][3][5][2][0][0].text,\n",
    "        \"assess_CDGLOBAL\" : root[0][3][5][3][0][0].text,\n",
    "        \"projectIdentifier\" : root[0][0].text,\n",
    "        \"studyIdentifier\" : root[0][3][6][0].text,\n",
    "        \"visitIdentifier\" : root[0][3][5][0].text,\n",
    "        \"researchGroup\" : root[0][3][1].text,\n",
    "    }\n",
    "\n",
    "meta_dir = \"/Data/adni_frmi_alzheimers/data/ADNI/meta_xml\"\n",
    "meta_paths = [os.path.join(meta_dir, path) for path in os.listdir(meta_dir) if path[:4] == \"ADNI\"]\n",
    "dicts = []\n",
    "\n",
    "for path in meta_paths:\n",
    "    tree = ET.parse(path)\n",
    "    root = tree.getroot()\n",
    "    dicts.append(dict_from_xml(root))\n",
    "\n",
    "df = pd.DataFrame(dicts)\n",
    "df"
   ]
  }
 ]
}