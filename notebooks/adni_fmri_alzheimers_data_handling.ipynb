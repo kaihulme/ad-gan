{
 "metadata": {
  "language_info": {
   "codemirror_mode": {
    "name": "ipython",
    "version": 3
   },
   "file_extension": ".py",
   "mimetype": "text/x-python",
   "name": "python",
   "nbconvert_exporter": "python",
   "pygments_lexer": "ipython3",
   "version": "3.6.9-final"
  },
  "orig_nbformat": 2,
  "kernelspec": {
   "name": "python3",
   "display_name": "Python 3.6.9 64-bit",
   "metadata": {
    "interpreter": {
     "hash": "4cd7ab41f5fca4b9b44701077e38c5ffd31fe66a6cab21e0214b68d958d0e462"
    }
   }
  }
 },
 "nbformat": 4,
 "nbformat_minor": 2,
 "cells": [
  {
   "source": [
    "# ADNI Alzheimer's Neuroiamging Dataset Handling"
   ],
   "cell_type": "markdown",
   "metadata": {}
  },
  {
   "cell_type": "code",
   "execution_count": 258,
   "metadata": {},
   "outputs": [],
   "source": [
    "import os\n",
    "import shutil\n",
    "import cv2 as cv\n",
    "import numpy as np\n",
    "import pandas as pd\n",
    "import nibabel as nib\n",
    "import matplotlib.pyplot as plt\n",
    "import xml.etree.ElementTree as ET\n",
    "\n",
    "from tqdm import tqdm\n",
    "from sklearn.model_selection import train_test_split"
   ]
  },
  {
   "source": [
    "We shall unnest the files by gathering each of the file paths as a flattened list."
   ],
   "cell_type": "markdown",
   "metadata": {}
  },
  {
   "source": [
    "def join_listdir(a, bs):\n",
    "    return [os.path.join(a, b) for b in bs]\n",
    "\n",
    "def list_listdir(dirs, paths=[]):\n",
    "    return [\n",
    "        paths + list_listdir(join_listdir(item, os.listdir(item)), paths) if os.path.isdir(item)\n",
    "        else paths + [item]\n",
    "        for item in dirs\n",
    "    ]\n",
    "\n",
    "def flatten(xs):\n",
    "    if len(xs) == 0:\n",
    "        return xs\n",
    "    if isinstance(xs[0], list):\n",
    "        return flatten(xs[0]) + flatten(xs[1:])\n",
    "    return xs[:1] + flatten(xs[1:])\n",
    "\n",
    "data_dir = \"/Data/adni_frmi_alzheimers/data/ADNI_original\"\n",
    "paths = list_listdir([data_dir])\n",
    "paths = flatten(paths)"
   ],
   "cell_type": "code",
   "metadata": {},
   "execution_count": 3,
   "outputs": []
  },
  {
   "source": [
    "Now for each path we can copy to the new target destination."
   ],
   "cell_type": "markdown",
   "metadata": {}
  },
  {
   "cell_type": "code",
   "execution_count": 40,
   "metadata": {},
   "outputs": [],
   "source": [
    "def get_target_path(path):\n",
    "    fmri_nii_dir = \"/Data/adni_frmi_alzheimers/data/ADNI/fmri_nii\"\n",
    "    meta_xml_dir = \"/Data/adni_frmi_alzheimers/data/ADNI/meta_xml\"\n",
    "    filename = os.path.basename(path)\n",
    "    if filename[-4:] == '.nii':\n",
    "        return os.path.join(fmri_nii_dir, filename)\n",
    "    elif filename[-4:] == '.xml':\n",
    "        return os.path.join(meta_xml_dir, filename)\n",
    "    print(f\"ERROR: unrecognised file type (.{filename.split('.')[1]})\")\n",
    "\n",
    "for path in tqdm(paths):\n",
    "    target_path = get_target_path(path)\n",
    "    shutil.copyfile(path, target_path)"
   ]
  },
  {
   "source": [
    "As the fMRIs are .nii volumes we will need to convert them to a standard 2D image for training.\n",
    "\n",
    "For now we shall just take the middle slice of each volume.\n",
    "\n",
    "We will also reshape each to be the minimum size of the dataset and normalise pixel values to (0-255)."
   ],
   "cell_type": "markdown",
   "metadata": {}
  },
  {
   "cell_type": "code",
   "execution_count": 99,
   "metadata": {},
   "outputs": [
    {
     "output_type": "stream",
     "name": "stderr",
     "text": [
      "100%|██████████| 1075/1075 [04:31<00:00,  3.95it/s]\n"
     ]
    }
   ],
   "source": [
    "nii_paths = [path for path in paths if path[-4:] == '.nii']\n",
    "img_dir = \"/Data/adni_frmi_alzheimers/data/ADNI/fmri_img/mid_slice_side\"\n",
    "\n",
    "# for nii_path in nii_paths:\n",
    "for nii_path in tqdm(nii_paths):\n",
    "    nii = nib.load(nii_path)\n",
    "    volume = nii.get_fdata()\n",
    "    mid_slice = volume[:, :, volume.shape[2] // 2]\n",
    "    filename = os.path.basename(nii_path)[:-4] + \".png\"\n",
    "    img_path = os.path.join(img_dir, filename)\n",
    "    # normalise and ensure all images are 192x192\n",
    "    if not mid_slice.shape == (192, 192):\n",
    "        mid_slice = cv.resize(mid_slice, (192, 192))\n",
    "    mid_slice *= 255 / mid_slice.max()\n",
    "    cv.imwrite(img_path, mid_slice)\n",
    "    "
   ]
  },
  {
   "source": [
    "Now we shall handle the metadata."
   ],
   "cell_type": "markdown",
   "metadata": {}
  },
  {
   "cell_type": "code",
   "execution_count": 228,
   "metadata": {},
   "outputs": [
    {
     "output_type": "execute_result",
     "data": {
      "text/plain": [
       "     subjectIdentifier  subjectAge subjectSex  weightKg  assess_MMSCORE  \\\n",
       "0           002_S_0295     84.9041          M      74.5            28.0   \n",
       "1           002_S_0295     84.9041          M      74.5            28.0   \n",
       "2           002_S_0413     76.3863          F      61.4            29.0   \n",
       "3           002_S_0413     76.3863          F      61.4            29.0   \n",
       "4           002_S_0559     79.3699          M      93.1            30.0   \n",
       "...                ...         ...        ...       ...             ...   \n",
       "1070        073_S_0089     65.1973          M      93.5            30.0   \n",
       "1071        073_S_0089     65.1973          M      93.5            30.0   \n",
       "1072        073_S_0311     78.1918          F      79.6            30.0   \n",
       "1073        073_S_0311     78.1918          F      79.6            30.0   \n",
       "1074        073_S_0312     82.9589          M      54.5            30.0   \n",
       "\n",
       "      assess_GDTOTAL  assess_CDGLOBAL projectIdentifier studyIdentifier  \\\n",
       "0                1.0              0.0              ADNI            3566   \n",
       "1                1.0              0.0              ADNI            3566   \n",
       "2                0.0              0.0              ADNI            3697   \n",
       "3                0.0              0.0              ADNI            3697   \n",
       "4                2.0              0.0              ADNI            3978   \n",
       "...              ...              ...               ...             ...   \n",
       "1070             0.0              0.0              ADNI            2957   \n",
       "1071             0.0              0.0              ADNI            2957   \n",
       "1072             0.0              0.0              ADNI            4040   \n",
       "1073             0.0              0.0              ADNI            4040   \n",
       "1074             0.0              0.0              ADNI            4042   \n",
       "\n",
       "     visitIdentifier researchGroup            timestamp   img_id  \\\n",
       "0     ADNI Screening            CN  2006-10-07T10:28:02  I118671   \n",
       "1     ADNI Screening            CN  2006-10-07T10:28:02   I45108   \n",
       "2     ADNI Screening            CN  2006-10-07T13:52:02  I118673   \n",
       "3     ADNI Screening            CN  2006-10-07T13:52:02   I45117   \n",
       "4     ADNI Screening            CN  2006-10-07T14:06:02  I118676   \n",
       "...              ...           ...                  ...      ...   \n",
       "1070  ADNI Screening            CN  2006-10-10T09:02:03  I119227   \n",
       "1071  ADNI Screening            CN  2006-10-10T09:02:03   I49675   \n",
       "1072  ADNI Screening            CN  2006-10-10T09:11:02  I119229   \n",
       "1073  ADNI Screening            CN  2006-10-10T09:11:02   I39868   \n",
       "1074  ADNI Screening            CN  2006-10-10T09:21:02  I119230   \n",
       "\n",
       "                                              fMRI_Name  \n",
       "0     ADNI_002_S_0295_MPR__GradWarp__B1_Correction__...  \n",
       "1     ADNI_002_S_0295_MPR__GradWarp__B1_Correction__...  \n",
       "2     ADNI_002_S_0413_MPR__GradWarp__B1_Correction__...  \n",
       "3     ADNI_002_S_0413_MPR__GradWarp__B1_Correction__...  \n",
       "4     ADNI_002_S_0559_MPR__GradWarp__B1_Correction__...  \n",
       "...                                                 ...  \n",
       "1070  ADNI_073_S_0089_MPR-R__GradWarp__B1_Correction...  \n",
       "1071  ADNI_073_S_0089_MPR-R__GradWarp__B1_Correction...  \n",
       "1072  ADNI_073_S_0311_MPR__GradWarp__B1_Correction__...  \n",
       "1073  ADNI_073_S_0311_MPR__GradWarp__B1_Correction__...  \n",
       "1074  ADNI_073_S_0312_MPR__GradWarp__B1_Correction__...  \n",
       "\n",
       "[1075 rows x 14 columns]"
      ],
      "text/html": "<div>\n<style scoped>\n    .dataframe tbody tr th:only-of-type {\n        vertical-align: middle;\n    }\n\n    .dataframe tbody tr th {\n        vertical-align: top;\n    }\n\n    .dataframe thead th {\n        text-align: right;\n    }\n</style>\n<table border=\"1\" class=\"dataframe\">\n  <thead>\n    <tr style=\"text-align: right;\">\n      <th></th>\n      <th>subjectIdentifier</th>\n      <th>subjectAge</th>\n      <th>subjectSex</th>\n      <th>weightKg</th>\n      <th>assess_MMSCORE</th>\n      <th>assess_GDTOTAL</th>\n      <th>assess_CDGLOBAL</th>\n      <th>projectIdentifier</th>\n      <th>studyIdentifier</th>\n      <th>visitIdentifier</th>\n      <th>researchGroup</th>\n      <th>timestamp</th>\n      <th>img_id</th>\n      <th>fMRI_Name</th>\n    </tr>\n  </thead>\n  <tbody>\n    <tr>\n      <th>0</th>\n      <td>002_S_0295</td>\n      <td>84.9041</td>\n      <td>M</td>\n      <td>74.5</td>\n      <td>28.0</td>\n      <td>1.0</td>\n      <td>0.0</td>\n      <td>ADNI</td>\n      <td>3566</td>\n      <td>ADNI Screening</td>\n      <td>CN</td>\n      <td>2006-10-07T10:28:02</td>\n      <td>I118671</td>\n      <td>ADNI_002_S_0295_MPR__GradWarp__B1_Correction__...</td>\n    </tr>\n    <tr>\n      <th>1</th>\n      <td>002_S_0295</td>\n      <td>84.9041</td>\n      <td>M</td>\n      <td>74.5</td>\n      <td>28.0</td>\n      <td>1.0</td>\n      <td>0.0</td>\n      <td>ADNI</td>\n      <td>3566</td>\n      <td>ADNI Screening</td>\n      <td>CN</td>\n      <td>2006-10-07T10:28:02</td>\n      <td>I45108</td>\n      <td>ADNI_002_S_0295_MPR__GradWarp__B1_Correction__...</td>\n    </tr>\n    <tr>\n      <th>2</th>\n      <td>002_S_0413</td>\n      <td>76.3863</td>\n      <td>F</td>\n      <td>61.4</td>\n      <td>29.0</td>\n      <td>0.0</td>\n      <td>0.0</td>\n      <td>ADNI</td>\n      <td>3697</td>\n      <td>ADNI Screening</td>\n      <td>CN</td>\n      <td>2006-10-07T13:52:02</td>\n      <td>I118673</td>\n      <td>ADNI_002_S_0413_MPR__GradWarp__B1_Correction__...</td>\n    </tr>\n    <tr>\n      <th>3</th>\n      <td>002_S_0413</td>\n      <td>76.3863</td>\n      <td>F</td>\n      <td>61.4</td>\n      <td>29.0</td>\n      <td>0.0</td>\n      <td>0.0</td>\n      <td>ADNI</td>\n      <td>3697</td>\n      <td>ADNI Screening</td>\n      <td>CN</td>\n      <td>2006-10-07T13:52:02</td>\n      <td>I45117</td>\n      <td>ADNI_002_S_0413_MPR__GradWarp__B1_Correction__...</td>\n    </tr>\n    <tr>\n      <th>4</th>\n      <td>002_S_0559</td>\n      <td>79.3699</td>\n      <td>M</td>\n      <td>93.1</td>\n      <td>30.0</td>\n      <td>2.0</td>\n      <td>0.0</td>\n      <td>ADNI</td>\n      <td>3978</td>\n      <td>ADNI Screening</td>\n      <td>CN</td>\n      <td>2006-10-07T14:06:02</td>\n      <td>I118676</td>\n      <td>ADNI_002_S_0559_MPR__GradWarp__B1_Correction__...</td>\n    </tr>\n    <tr>\n      <th>...</th>\n      <td>...</td>\n      <td>...</td>\n      <td>...</td>\n      <td>...</td>\n      <td>...</td>\n      <td>...</td>\n      <td>...</td>\n      <td>...</td>\n      <td>...</td>\n      <td>...</td>\n      <td>...</td>\n      <td>...</td>\n      <td>...</td>\n      <td>...</td>\n    </tr>\n    <tr>\n      <th>1070</th>\n      <td>073_S_0089</td>\n      <td>65.1973</td>\n      <td>M</td>\n      <td>93.5</td>\n      <td>30.0</td>\n      <td>0.0</td>\n      <td>0.0</td>\n      <td>ADNI</td>\n      <td>2957</td>\n      <td>ADNI Screening</td>\n      <td>CN</td>\n      <td>2006-10-10T09:02:03</td>\n      <td>I119227</td>\n      <td>ADNI_073_S_0089_MPR-R__GradWarp__B1_Correction...</td>\n    </tr>\n    <tr>\n      <th>1071</th>\n      <td>073_S_0089</td>\n      <td>65.1973</td>\n      <td>M</td>\n      <td>93.5</td>\n      <td>30.0</td>\n      <td>0.0</td>\n      <td>0.0</td>\n      <td>ADNI</td>\n      <td>2957</td>\n      <td>ADNI Screening</td>\n      <td>CN</td>\n      <td>2006-10-10T09:02:03</td>\n      <td>I49675</td>\n      <td>ADNI_073_S_0089_MPR-R__GradWarp__B1_Correction...</td>\n    </tr>\n    <tr>\n      <th>1072</th>\n      <td>073_S_0311</td>\n      <td>78.1918</td>\n      <td>F</td>\n      <td>79.6</td>\n      <td>30.0</td>\n      <td>0.0</td>\n      <td>0.0</td>\n      <td>ADNI</td>\n      <td>4040</td>\n      <td>ADNI Screening</td>\n      <td>CN</td>\n      <td>2006-10-10T09:11:02</td>\n      <td>I119229</td>\n      <td>ADNI_073_S_0311_MPR__GradWarp__B1_Correction__...</td>\n    </tr>\n    <tr>\n      <th>1073</th>\n      <td>073_S_0311</td>\n      <td>78.1918</td>\n      <td>F</td>\n      <td>79.6</td>\n      <td>30.0</td>\n      <td>0.0</td>\n      <td>0.0</td>\n      <td>ADNI</td>\n      <td>4040</td>\n      <td>ADNI Screening</td>\n      <td>CN</td>\n      <td>2006-10-10T09:11:02</td>\n      <td>I39868</td>\n      <td>ADNI_073_S_0311_MPR__GradWarp__B1_Correction__...</td>\n    </tr>\n    <tr>\n      <th>1074</th>\n      <td>073_S_0312</td>\n      <td>82.9589</td>\n      <td>M</td>\n      <td>54.5</td>\n      <td>30.0</td>\n      <td>0.0</td>\n      <td>0.0</td>\n      <td>ADNI</td>\n      <td>4042</td>\n      <td>ADNI Screening</td>\n      <td>CN</td>\n      <td>2006-10-10T09:21:02</td>\n      <td>I119230</td>\n      <td>ADNI_073_S_0312_MPR__GradWarp__B1_Correction__...</td>\n    </tr>\n  </tbody>\n</table>\n<p>1075 rows × 14 columns</p>\n</div>"
     },
     "metadata": {},
     "execution_count": 228
    }
   ],
   "source": [
    "def dict_from_xml(root, path):\n",
    "    return {\n",
    "        \"subjectIdentifier\" : root[0][3][0].text,\n",
    "        \"subjectAge\" : float(root[0][3][6][1].text),\n",
    "        # \"ageQualifier\" : root[0][3][6][2].text,\n",
    "        \"subjectSex\" : root[0][3][2].text,\n",
    "        \"weightKg\" : float(root[0][3][6][3].text),\n",
    "        # \"postMortem\" : root[0][3][6][4].text,\n",
    "        \"assess_MMSCORE\" : float(root[0][3][5][1][0][0].text),\n",
    "        \"assess_GDTOTAL\" : float(root[0][3][5][2][0][0].text),\n",
    "        \"assess_CDGLOBAL\" : float(root[0][3][5][3][0][0].text),\n",
    "        \"projectIdentifier\" : root[0][0].text,\n",
    "        \"studyIdentifier\" : root[0][3][6][0].text,\n",
    "        \"visitIdentifier\" : root[0][3][5][0].text,\n",
    "        \"researchGroup\" : root[0][3][1].text,\n",
    "        \"timestamp\" : root[0][3][6][5][3][1][8][5].text,\n",
    "        \"img_id\" : os.path.basename(path).split('_')[-1][:-4],\n",
    "        \"fMRI_Name\" : os.path.basename(path)[:-4],\n",
    "    }\n",
    "\n",
    "meta_dir = \"/Data/adni_frmi_alzheimers/data/ADNI/meta_xml\"\n",
    "meta_paths = [os.path.join(meta_dir, path) for path in os.listdir(meta_dir) if path[:4] == \"ADNI\"]\n",
    "dicts = []\n",
    "\n",
    "for path in meta_paths:\n",
    "    tree = ET.parse(path)\n",
    "    root = tree.getroot()\n",
    "    dicts.append(dict_from_xml(root, path))\n",
    "\n",
    "df = pd.DataFrame(dicts)\n",
    "df"
   ]
  },
  {
   "source": [
    "Now we can analyse the meta data using Pandas."
   ],
   "cell_type": "markdown",
   "metadata": {}
  },
  {
   "cell_type": "code",
   "execution_count": 229,
   "metadata": {},
   "outputs": [
    {
     "output_type": "stream",
     "name": "stdout",
     "text": [
      "1075 total samples, from 818 subjects.\n"
     ]
    }
   ],
   "source": [
    "print(f\"{df['subjectIdentifier'].size} total samples, from {df['subjectIdentifier'].unique().size} subjects.\")"
   ]
  },
  {
   "source": [
    "There are quite a few samples from the same patient. As these samples are all from initial screenings it suggests multiple samples are due to errors in the initial sample. For this reason we shall just take the last sample."
   ],
   "cell_type": "markdown",
   "metadata": {}
  },
  {
   "source": [
    "subject_ids = df['subjectIdentifier'].tolist()\n",
    "fmri_names_to_remove = []\n",
    "\n",
    "for id in subject_ids:\n",
    "    subject_df = df[df['subjectIdentifier'] == id]['fMRI_Name']\n",
    "    if len(subject_df) > 1:\n",
    "        for fmri_name in subject_df.tolist():\n",
    "            if not \"Scaled_2\" in fmri_name:\n",
    "                fmri_names_to_remove.append(fmri_name)\n",
    "\n",
    "single_df = df[~df.fMRI_Name.isin(fmri_names_to_remove)]\n",
    "single_df"
   ],
   "cell_type": "code",
   "metadata": {},
   "execution_count": 230,
   "outputs": [
    {
     "output_type": "execute_result",
     "data": {
      "text/plain": [
       "     subjectIdentifier  subjectAge subjectSex  weightKg  assess_MMSCORE  \\\n",
       "0           002_S_0295     84.9041          M     74.50            28.0   \n",
       "2           002_S_0413     76.3863          F     61.40            29.0   \n",
       "4           002_S_0559     79.3699          M     93.10            30.0   \n",
       "6           002_S_0619     77.5507          M     82.20            22.0   \n",
       "8           002_S_0685     89.7370          F     65.30            30.0   \n",
       "...                ...         ...        ...       ...             ...   \n",
       "1066        072_S_1211     86.9589          M     86.18            28.0   \n",
       "1068        072_S_1380     84.9288          M     96.16            29.0   \n",
       "1070        073_S_0089     65.1973          M     93.50            30.0   \n",
       "1072        073_S_0311     78.1918          F     79.60            30.0   \n",
       "1074        073_S_0312     82.9589          M     54.50            30.0   \n",
       "\n",
       "      assess_GDTOTAL  assess_CDGLOBAL projectIdentifier studyIdentifier  \\\n",
       "0                1.0              0.0              ADNI            3566   \n",
       "2                0.0              0.0              ADNI            3697   \n",
       "4                2.0              0.0              ADNI            3978   \n",
       "6                4.0              1.0              ADNI            4059   \n",
       "8                2.0              0.0              ADNI            4374   \n",
       "...              ...              ...               ...             ...   \n",
       "1066             3.0              0.5              ADNI            7524   \n",
       "1068             3.0              0.5              ADNI            8302   \n",
       "1070             0.0              0.0              ADNI            2957   \n",
       "1072             0.0              0.0              ADNI            4040   \n",
       "1074             0.0              0.0              ADNI            4042   \n",
       "\n",
       "     visitIdentifier researchGroup            timestamp   img_id  \\\n",
       "0     ADNI Screening            CN  2006-10-07T10:28:02  I118671   \n",
       "2     ADNI Screening            CN  2006-10-07T13:52:02  I118673   \n",
       "4     ADNI Screening            CN  2006-10-07T14:06:02  I118676   \n",
       "6     ADNI Screening            AD  2006-10-07T14:19:02  I118678   \n",
       "8     ADNI Screening            CN  2006-10-07T14:21:02  I118680   \n",
       "...              ...           ...                  ...      ...   \n",
       "1066  ADNI Screening           MCI  2007-08-02T14:12:40  I119224   \n",
       "1068  ADNI Screening           MCI  2007-07-20T13:25:19  I119226   \n",
       "1070  ADNI Screening            CN  2006-10-10T09:02:03  I119227   \n",
       "1072  ADNI Screening            CN  2006-10-10T09:11:02  I119229   \n",
       "1074  ADNI Screening            CN  2006-10-10T09:21:02  I119230   \n",
       "\n",
       "                                              fMRI_Name  \n",
       "0     ADNI_002_S_0295_MPR__GradWarp__B1_Correction__...  \n",
       "2     ADNI_002_S_0413_MPR__GradWarp__B1_Correction__...  \n",
       "4     ADNI_002_S_0559_MPR__GradWarp__B1_Correction__...  \n",
       "6     ADNI_002_S_0619_MPR-R__GradWarp__N3__Scaled_2_...  \n",
       "8     ADNI_002_S_0685_MPR__GradWarp__B1_Correction__...  \n",
       "...                                                 ...  \n",
       "1066  ADNI_072_S_1211_MPR____N3__Scaled_2_S27809_I11...  \n",
       "1068  ADNI_072_S_1380_MPR____N3__Scaled_2_S30046_I11...  \n",
       "1070  ADNI_073_S_0089_MPR-R__GradWarp__B1_Correction...  \n",
       "1072  ADNI_073_S_0311_MPR__GradWarp__B1_Correction__...  \n",
       "1074  ADNI_073_S_0312_MPR__GradWarp__B1_Correction__...  \n",
       "\n",
       "[817 rows x 14 columns]"
      ],
      "text/html": "<div>\n<style scoped>\n    .dataframe tbody tr th:only-of-type {\n        vertical-align: middle;\n    }\n\n    .dataframe tbody tr th {\n        vertical-align: top;\n    }\n\n    .dataframe thead th {\n        text-align: right;\n    }\n</style>\n<table border=\"1\" class=\"dataframe\">\n  <thead>\n    <tr style=\"text-align: right;\">\n      <th></th>\n      <th>subjectIdentifier</th>\n      <th>subjectAge</th>\n      <th>subjectSex</th>\n      <th>weightKg</th>\n      <th>assess_MMSCORE</th>\n      <th>assess_GDTOTAL</th>\n      <th>assess_CDGLOBAL</th>\n      <th>projectIdentifier</th>\n      <th>studyIdentifier</th>\n      <th>visitIdentifier</th>\n      <th>researchGroup</th>\n      <th>timestamp</th>\n      <th>img_id</th>\n      <th>fMRI_Name</th>\n    </tr>\n  </thead>\n  <tbody>\n    <tr>\n      <th>0</th>\n      <td>002_S_0295</td>\n      <td>84.9041</td>\n      <td>M</td>\n      <td>74.50</td>\n      <td>28.0</td>\n      <td>1.0</td>\n      <td>0.0</td>\n      <td>ADNI</td>\n      <td>3566</td>\n      <td>ADNI Screening</td>\n      <td>CN</td>\n      <td>2006-10-07T10:28:02</td>\n      <td>I118671</td>\n      <td>ADNI_002_S_0295_MPR__GradWarp__B1_Correction__...</td>\n    </tr>\n    <tr>\n      <th>2</th>\n      <td>002_S_0413</td>\n      <td>76.3863</td>\n      <td>F</td>\n      <td>61.40</td>\n      <td>29.0</td>\n      <td>0.0</td>\n      <td>0.0</td>\n      <td>ADNI</td>\n      <td>3697</td>\n      <td>ADNI Screening</td>\n      <td>CN</td>\n      <td>2006-10-07T13:52:02</td>\n      <td>I118673</td>\n      <td>ADNI_002_S_0413_MPR__GradWarp__B1_Correction__...</td>\n    </tr>\n    <tr>\n      <th>4</th>\n      <td>002_S_0559</td>\n      <td>79.3699</td>\n      <td>M</td>\n      <td>93.10</td>\n      <td>30.0</td>\n      <td>2.0</td>\n      <td>0.0</td>\n      <td>ADNI</td>\n      <td>3978</td>\n      <td>ADNI Screening</td>\n      <td>CN</td>\n      <td>2006-10-07T14:06:02</td>\n      <td>I118676</td>\n      <td>ADNI_002_S_0559_MPR__GradWarp__B1_Correction__...</td>\n    </tr>\n    <tr>\n      <th>6</th>\n      <td>002_S_0619</td>\n      <td>77.5507</td>\n      <td>M</td>\n      <td>82.20</td>\n      <td>22.0</td>\n      <td>4.0</td>\n      <td>1.0</td>\n      <td>ADNI</td>\n      <td>4059</td>\n      <td>ADNI Screening</td>\n      <td>AD</td>\n      <td>2006-10-07T14:19:02</td>\n      <td>I118678</td>\n      <td>ADNI_002_S_0619_MPR-R__GradWarp__N3__Scaled_2_...</td>\n    </tr>\n    <tr>\n      <th>8</th>\n      <td>002_S_0685</td>\n      <td>89.7370</td>\n      <td>F</td>\n      <td>65.30</td>\n      <td>30.0</td>\n      <td>2.0</td>\n      <td>0.0</td>\n      <td>ADNI</td>\n      <td>4374</td>\n      <td>ADNI Screening</td>\n      <td>CN</td>\n      <td>2006-10-07T14:21:02</td>\n      <td>I118680</td>\n      <td>ADNI_002_S_0685_MPR__GradWarp__B1_Correction__...</td>\n    </tr>\n    <tr>\n      <th>...</th>\n      <td>...</td>\n      <td>...</td>\n      <td>...</td>\n      <td>...</td>\n      <td>...</td>\n      <td>...</td>\n      <td>...</td>\n      <td>...</td>\n      <td>...</td>\n      <td>...</td>\n      <td>...</td>\n      <td>...</td>\n      <td>...</td>\n      <td>...</td>\n    </tr>\n    <tr>\n      <th>1066</th>\n      <td>072_S_1211</td>\n      <td>86.9589</td>\n      <td>M</td>\n      <td>86.18</td>\n      <td>28.0</td>\n      <td>3.0</td>\n      <td>0.5</td>\n      <td>ADNI</td>\n      <td>7524</td>\n      <td>ADNI Screening</td>\n      <td>MCI</td>\n      <td>2007-08-02T14:12:40</td>\n      <td>I119224</td>\n      <td>ADNI_072_S_1211_MPR____N3__Scaled_2_S27809_I11...</td>\n    </tr>\n    <tr>\n      <th>1068</th>\n      <td>072_S_1380</td>\n      <td>84.9288</td>\n      <td>M</td>\n      <td>96.16</td>\n      <td>29.0</td>\n      <td>3.0</td>\n      <td>0.5</td>\n      <td>ADNI</td>\n      <td>8302</td>\n      <td>ADNI Screening</td>\n      <td>MCI</td>\n      <td>2007-07-20T13:25:19</td>\n      <td>I119226</td>\n      <td>ADNI_072_S_1380_MPR____N3__Scaled_2_S30046_I11...</td>\n    </tr>\n    <tr>\n      <th>1070</th>\n      <td>073_S_0089</td>\n      <td>65.1973</td>\n      <td>M</td>\n      <td>93.50</td>\n      <td>30.0</td>\n      <td>0.0</td>\n      <td>0.0</td>\n      <td>ADNI</td>\n      <td>2957</td>\n      <td>ADNI Screening</td>\n      <td>CN</td>\n      <td>2006-10-10T09:02:03</td>\n      <td>I119227</td>\n      <td>ADNI_073_S_0089_MPR-R__GradWarp__B1_Correction...</td>\n    </tr>\n    <tr>\n      <th>1072</th>\n      <td>073_S_0311</td>\n      <td>78.1918</td>\n      <td>F</td>\n      <td>79.60</td>\n      <td>30.0</td>\n      <td>0.0</td>\n      <td>0.0</td>\n      <td>ADNI</td>\n      <td>4040</td>\n      <td>ADNI Screening</td>\n      <td>CN</td>\n      <td>2006-10-10T09:11:02</td>\n      <td>I119229</td>\n      <td>ADNI_073_S_0311_MPR__GradWarp__B1_Correction__...</td>\n    </tr>\n    <tr>\n      <th>1074</th>\n      <td>073_S_0312</td>\n      <td>82.9589</td>\n      <td>M</td>\n      <td>54.50</td>\n      <td>30.0</td>\n      <td>0.0</td>\n      <td>0.0</td>\n      <td>ADNI</td>\n      <td>4042</td>\n      <td>ADNI Screening</td>\n      <td>CN</td>\n      <td>2006-10-10T09:21:02</td>\n      <td>I119230</td>\n      <td>ADNI_073_S_0312_MPR__GradWarp__B1_Correction__...</td>\n    </tr>\n  </tbody>\n</table>\n<p>817 rows × 14 columns</p>\n</div>"
     },
     "metadata": {},
     "execution_count": 230
    }
   ]
  },
  {
   "source": [
    "Now lets check if there are any duplicates remaining."
   ],
   "cell_type": "markdown",
   "metadata": {}
  },
  {
   "cell_type": "code",
   "execution_count": 231,
   "metadata": {},
   "outputs": [
    {
     "output_type": "stream",
     "name": "stdout",
     "text": [
      "817 total samples, from 817 subjects.\n"
     ]
    }
   ],
   "source": [
    "print(f\"{single_df['subjectIdentifier'].size} total samples, from {single_df['subjectIdentifier'].unique().size} subjects.\")"
   ]
  },
  {
   "source": [
    "`CDGLOBAL` will be our target."
   ],
   "cell_type": "markdown",
   "metadata": {}
  },
  {
   "cell_type": "code",
   "execution_count": 232,
   "metadata": {},
   "outputs": [
    {
     "output_type": "execute_result",
     "data": {
      "text/plain": [
       "0.5    494\n",
       "0.0    230\n",
       "1.0     93\n",
       "Name: assess_CDGLOBAL, dtype: int64"
      ]
     },
     "metadata": {},
     "execution_count": 232
    }
   ],
   "source": [
    "single_df['assess_CDGLOBAL'].value_counts()"
   ]
  },
  {
   "source": [
    "Lets create seperate dataframes for each."
   ],
   "cell_type": "markdown",
   "metadata": {}
  },
  {
   "cell_type": "code",
   "execution_count": 233,
   "metadata": {},
   "outputs": [
    {
     "output_type": "stream",
     "name": "stdout",
     "text": [
      "cd=0.0: 230\ncd=0.5: 494\ncd=1.0: 93\n"
     ]
    }
   ],
   "source": [
    "df_cd00 = single_df[single_df['assess_CDGLOBAL'] == 0.0]\n",
    "df_cd05 = single_df[single_df['assess_CDGLOBAL'] == 0.5]\n",
    "df_cd10 = single_df[single_df['assess_CDGLOBAL'] == 1.0]\n",
    "\n",
    "print(f\"cd=0.0: {df_cd00.shape[0]}\\ncd=0.5: {df_cd05.shape[0]}\\ncd=1.0: {df_cd10.shape[0]}\")"
   ]
  },
  {
   "source": [
    "There are not many poisitve (1.0) instances so lets explore cd=0.5 and see if we can filter these and find cases to consider positive.\n",
    "\n",
    "`MMSCORE` represents the score given to a patient in a mini-mental state exam aimed to test congnitive ability. A low score in this indicates congnitive impairment and may be caused by Alzheimer's. Scores of 26 and higher are considered normal, scores of 10-20 indicate moderate dementaia, while score of less than 9 indicate severe impairment."
   ],
   "cell_type": "markdown",
   "metadata": {}
  },
  {
   "cell_type": "code",
   "execution_count": 234,
   "metadata": {},
   "outputs": [
    {
     "output_type": "execute_result",
     "data": {
      "text/plain": [
       "26.0    85\n",
       "27.0    74\n",
       "25.0    72\n",
       "29.0    69\n",
       "28.0    67\n",
       "24.0    56\n",
       "30.0    30\n",
       "23.0    15\n",
       "22.0    11\n",
       "21.0    10\n",
       "20.0     4\n",
       "18.0     1\n",
       "Name: assess_MMSCORE, dtype: int64"
      ]
     },
     "metadata": {},
     "execution_count": 234
    }
   ],
   "source": [
    "df_cd05[\"assess_MMSCORE\"].value_counts()"
   ]
  },
  {
   "source": [
    "5 patients have scores which would be considered indicications of moderate dementia (10-20). As there are only a few cases which fall under moderate we shall omit them considering they are at the lower end of the band.\n",
    "\n",
    "`GDTOTAL` represents the score attained in a test for geriatric depression. Scores of 0-5 are considered normal and 6-15 are considered depressed. Depression is one of many symptoms of Alzheimer's disease and so high scores in this test may indicate signs of Alzheimer's."
   ],
   "cell_type": "markdown",
   "metadata": {}
  },
  {
   "cell_type": "code",
   "execution_count": 235,
   "metadata": {},
   "outputs": [
    {
     "output_type": "execute_result",
     "data": {
      "text/plain": [
       "1.0    168\n",
       "0.0    115\n",
       "2.0    100\n",
       "3.0     57\n",
       "4.0     31\n",
       "5.0     22\n",
       "6.0      1\n",
       "Name: assess_GDTOTAL, dtype: int64"
      ]
     },
     "metadata": {},
     "execution_count": 235
    }
   ],
   "source": [
    "df_cd05[\"assess_GDTOTAL\"].value_counts()"
   ]
  },
  {
   "source": [
    "With there only being one result which would be considered depressed we shall ommit adding it to the positive classes considering it is the lowest possible score to be considered depressed.\n",
    "\n",
    "Now we can create our positive and negative classes."
   ],
   "cell_type": "markdown",
   "metadata": {}
  },
  {
   "cell_type": "code",
   "execution_count": 252,
   "metadata": {},
   "outputs": [],
   "source": [
    "fmri_img_dir = \"/Data/adni_frmi_alzheimers/data/ADNI/fmri_img/mid_slice_side\"\n",
    "fmri_paths = [os.path.join(fmri_img_dir, img_name) for img_name in os.listdir(fmri_img_dir)]\n",
    "\n",
    "pos_ids = df_cd10[\"img_id\"].tolist()\n",
    "neg_ids = df_cd00[\"img_id\"].tolist()\n",
    "\n",
    "pos_paths = [fmri_path for fmri_path in fmri_paths if fmri_path.split('_')[-1][:-4] in pos_ids]\n",
    "neg_paths = [fmri_path for fmri_path in fmri_paths if fmri_path.split('_')[-1][:-4] in neg_ids]"
   ]
  },
  {
   "source": [
    "Now we have the image paths from the `/Data` directory we can gather them and create training, validation and testing sets."
   ],
   "cell_type": "markdown",
   "metadata": {}
  },
  {
   "cell_type": "code",
   "execution_count": 259,
   "metadata": {},
   "outputs": [],
   "source": [
    "pos_X = [cv.imread(path) for path in pos_paths]\n",
    "neg_X = [cv.imread(path) for path in neg_paths]\n",
    "\n",
    "pos_y = [1] * len(pos_X)\n",
    "neg_y = [0] * len(neg_X)\n",
    "\n",
    "X = pos_X + neg_X\n",
    "y = pos_y + neg_y\n",
    "\n",
    "X_train, X_test, y_train, y_test = train_test_split(X, y, test_size=0.1)\n",
    "X_train, X_val, y_train, y_val = train_test_split(X_train, y_train, test_size=0.1)"
   ]
  },
  {
   "source": [
    "We shall move the images to the project directory and organise them so they can be used by the data generator."
   ],
   "cell_type": "markdown",
   "metadata": {}
  },
  {
   "cell_type": "code",
   "execution_count": 263,
   "metadata": {},
   "outputs": [],
   "source": [
    "def getdirs(classes, data_dir):\n",
    "    dir_sets = []\n",
    "    for s in [\"train\", \"val\", \"test\"]:\n",
    "        dirs = []\n",
    "        for c in classes:\n",
    "            dir = \"{0}/{1}/\".format(s, c)\n",
    "            dirs.append(os.path.join(data_dir, dir))\n",
    "        dir_sets.append(dirs)\n",
    "    return dir_sets\n",
    "\n",
    "def mkdirs(classes, data_dir):\n",
    "    dir_sets = getdirs(classes, data_dir)\n",
    "    for dirs in dir_sets:\n",
    "        for dir in dirs:\n",
    "            if not os.path.isdir(dir):    \n",
    "                os.makedirs(dir)\n",
    "            else:\n",
    "                for filepath in os.listdir(dir):\n",
    "                    os.remove(os.path.join(dir, filepath))\n",
    " \n",
    "def write_imgs(classes, data_dir, X_train, y_train, X_val, y_val, X_test, y_test):\n",
    "    dir_sets = getdirs(classes, data_dir)\n",
    "    sets = [(X_train, y_train), (X_val, y_val), (X_test, y_test)]\n",
    "    for (dirs, (X, y)) in zip(dir_sets, sets):\n",
    "        counter = [0] * len(classes)\n",
    "        for (img, label) in zip(X, y):\n",
    "            filename = \"{0}class_{1}_img_{2}.jpg\".format(dirs[label], label, counter[label])\n",
    "            cv.imwrite(filename, img)\n",
    "            counter[label] += 1\n",
    "\n",
    "\n",
    "classes = range(2)\n",
    "data_dir = os.path.join(os.path.join(os.getcwd(), os.pardir), \"resources/data/adni_alzheimers\")\n",
    "\n",
    "mkdirs(classes, data_dir)\n",
    "write_imgs(classes, data_dir, X_train, y_train, X_val, y_val, X_test, y_test)"
   ]
  }
 ]
}