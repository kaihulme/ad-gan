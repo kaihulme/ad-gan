{
 "metadata": {
  "language_info": {
   "codemirror_mode": {
    "name": "ipython",
    "version": 3
   },
   "file_extension": ".py",
   "mimetype": "text/x-python",
   "name": "python",
   "nbconvert_exporter": "python",
   "pygments_lexer": "ipython3",
   "version": "3.6.9-final"
  },
  "orig_nbformat": 2,
  "kernelspec": {
   "name": "python3",
   "display_name": "Python 3.6.9 64-bit",
   "metadata": {
    "interpreter": {
     "hash": "4cd7ab41f5fca4b9b44701077e38c5ffd31fe66a6cab21e0214b68d958d0e462"
    }
   }
  }
 },
 "nbformat": 4,
 "nbformat_minor": 2,
 "cells": [
  {
   "source": [
    "# f-MRI Tumour Data Handling"
   ],
   "cell_type": "markdown",
   "metadata": {}
  },
  {
   "cell_type": "code",
   "execution_count": 1,
   "metadata": {},
   "outputs": [],
   "source": [
    "import os\n",
    "import cv2 as cv\n",
    "\n",
    "from sklearn.model_selection import train_test_split"
   ]
  },
  {
   "source": [
    "## Gather images\n",
    "\n",
    "We will be using a small dataset of f-MRI images of brains slices with and without tumours from [Kaggle](https://www.kaggle.com/navoneel/brain-mri-images-for-brain-tumor-detection). "
   ],
   "cell_type": "markdown",
   "metadata": {}
  },
  {
   "cell_type": "code",
   "execution_count": 39,
   "metadata": {},
   "outputs": [],
   "source": [
    "raw_data_dir = os.path.join(os.path.join(os.getcwd(), os.pardir), \"resources/raw_data/fmri_tumour\")\n",
    "neg_dir = os.path.join(raw_data_dir, \"no\")\n",
    "pos_dir = os.path.join(raw_data_dir, \"yes\")\n",
    "neg_imgs = [cv.imread('{0}/{1}'.format(neg_dir, filepath), 0) for filepath in os.listdir(neg_dir)]\n",
    "pos_imgs = [cv.imread('{0}/{1}'.format(pos_dir, filepath), 0) for filepath in os.listdir(pos_dir)]"
   ]
  },
  {
   "source": [
    "Now we have each of the images we shall create labels, then combine and use train test split to create random train, validation and testing sets."
   ],
   "cell_type": "markdown",
   "metadata": {}
  },
  {
   "cell_type": "code",
   "execution_count": 42,
   "metadata": {},
   "outputs": [],
   "source": [
    "neg_labels = [0] * len(neg_imgs)\n",
    "pos_labels = [1] * len(pos_imgs)\n",
    "X = neg_imgs + pos_imgs\n",
    "y = neg_labels + pos_labels\n",
    "\n",
    "X_train, X_test, y_train, y_test = train_test_split(X, y, test_size=0.1)\n",
    "X_train, X_val, y_train, y_val = train_test_split(X_train, y_train, test_size=0.1)"
   ]
  },
  {
   "source": [
    "Now we can organise in the data directory for the data generator.\n",
    "\n",
    "First we will need to make the classes."
   ],
   "cell_type": "markdown",
   "metadata": {}
  },
  {
   "source": [
    "def getdirs(classes):\n",
    "    data_dir = os.path.join(os.path.join(os.getcwd(), os.pardir), \"resources/data/fmri_tumour\")\n",
    "    dir_sets = []\n",
    "    for s in [\"train\", \"val\", \"test\"]:\n",
    "        dirs = []\n",
    "        for c in classes:\n",
    "            dir = \"{0}/{1}/\".format(s, c)\n",
    "            dirs.append(os.path.join(data_dir, dir))\n",
    "        dir_sets.append(dirs)\n",
    "    return dir_sets\n",
    "\n",
    "def mkdirs(classes):\n",
    "    dir_sets = getdirs(classes)\n",
    "    for dirs in dir_sets:\n",
    "        for dir in dirs:\n",
    "            if not os.path.isdir(dir):    \n",
    "                os.makedirs(dir)\n",
    "            else:\n",
    "                for filepath in os.listdir(dir):\n",
    "                    os.remove(os.path.join(dir, filepath))\n",
    " \n",
    "classes = range(2)\n",
    "mkdirs(classes)"
   ],
   "cell_type": "code",
   "metadata": {},
   "execution_count": 47,
   "outputs": []
  },
  {
   "source": [
    "Now we can organise the images into the directories."
   ],
   "cell_type": "markdown",
   "metadata": {}
  },
  {
   "cell_type": "code",
   "execution_count": 48,
   "metadata": {},
   "outputs": [],
   "source": [
    "def write_imgs(classes, X_train, y_train, X_val, y_val, X_test, y_test):\n",
    "    dir_sets = getdirs(classes)\n",
    "    sets = [(X_train, y_train), (X_val, y_val), (X_test, y_test)]\n",
    "    for (dirs, (X, y)) in zip(dir_sets, sets):\n",
    "        counter = [0] * len(classes)\n",
    "        for (img, label) in zip(X, y):\n",
    "            filename = \"{0}class_{1}_img_{2}.jpg\".format(dirs[label], label, counter[label])\n",
    "            cv.imwrite(filename, img)\n",
    "            counter[label] += 1\n",
    "\n",
    "write_imgs(classes, X_train, y_train, X_val, y_val, X_test, y_test)"
   ]
  }
 ]
}