{
 "metadata": {
  "language_info": {
   "codemirror_mode": {
    "name": "ipython",
    "version": 3
   },
   "file_extension": ".py",
   "mimetype": "text/x-python",
   "name": "python",
   "nbconvert_exporter": "python",
   "pygments_lexer": "ipython3",
   "version": "3.9.2-final"
  },
  "orig_nbformat": 2,
  "kernelspec": {
   "name": "python3",
   "display_name": "Python 3.9.2 64-bit ('ds': conda)",
   "metadata": {
    "interpreter": {
     "hash": "6c664c56593c314dfba7bfe69447aaaa90dca9c3f46ad76e142232859feb452d"
    }
   }
  }
 },
 "nbformat": 4,
 "nbformat_minor": 2,
 "cells": [
  {
   "source": [
    "# ADNI Preprocessing Pipeline with NiPype"
   ],
   "cell_type": "markdown",
   "metadata": {}
  },
  {
   "cell_type": "code",
   "execution_count": 4,
   "metadata": {},
   "outputs": [],
   "source": [
    "import os\n",
    "import shutil\n",
    "import cv2 as cv\n",
    "import numpy as np\n",
    "import pandas as pd\n",
    "import nibabel as nib\n",
    "import matplotlib.pyplot as plt\n",
    "import xml.etree.ElementTree as ET\n",
    "\n",
    "from tqdm import tqdm\n",
    "from sklearn.model_selection import train_test_split\n",
    "\n",
    "from nipype.interfaces.freesurfer import ReconAll\n",
    "from nipype.interfaces.utility import IdentityInterface\n",
    "from nipype.pipeline.engine import Workflow, Node"
   ]
  },
  {
   "source": [
    "Set paths."
   ],
   "cell_type": "markdown",
   "metadata": {}
  },
  {
   "cell_type": "code",
   "execution_count": 2,
   "metadata": {},
   "outputs": [],
   "source": [
    "experiment_dir = \"/Data/test\"\n",
    "data_dir = os.path.join(experiment_dir, \"samples\")\n",
    "# out_dir = os.path.join(experiment_dir, \"out\")\n",
    "# fs_folder = \"/freesurfer\"\n",
    "\n",
    "fs_folder = os.path.join(experiment_dir, \"freesurfer\")\n",
    "if not os.path.isdir(fs_folder):\n",
    "    os.mkdir(fs_folder)\n",
    "\n",
    "subject_list = [\"ADNI_test_sample\"]\n",
    "T1_identifier = os.path.normpath(\"struct.nii.gz\")"
   ]
  },
  {
   "source": [
    "## Recon-all"
   ],
   "cell_type": "markdown",
   "metadata": {}
  },
  {
   "source": [
    "reconflow = Workflow(name=\"reconflow\")\n",
    "reconflow.base_dir = os.path.join(data_dir, \"workingdir_reconflow\")\n",
    "\n",
    "infosource = Node(IdentityInterface(fields=['subject_id']), name=\"inforsource\")\n",
    "infosource.iterables = (\"subject_id\", subject_list)"
   ],
   "cell_type": "code",
   "metadata": {},
   "execution_count": 3,
   "outputs": []
  },
  {
   "source": [
    "Define recon-all."
   ],
   "cell_type": "markdown",
   "metadata": {}
  },
  {
   "source": [
    "reconall = Node(ReconAll(\n",
    "    directive=\"all\", \n",
    "    subjects_dir=fs_folder), \n",
    "    name=\"reconall\",\n",
    ")"
   ],
   "cell_type": "code",
   "metadata": {},
   "execution_count": 4,
   "outputs": []
  },
  {
   "source": [
    "Define workflow."
   ],
   "cell_type": "markdown",
   "metadata": {}
  },
  {
   "cell_type": "code",
   "execution_count": 5,
   "metadata": {},
   "outputs": [],
   "source": [
    "def pathfinder(subject, foldername, filename):\n",
    "    from os.path import join as pathjoin\n",
    "    path =  pathjoin(foldername, subject, filename)\n",
    "    return path\n",
    "\n",
    "reconflow.connect([\n",
    "    (infosource, reconall, [('subject_id', 'subject_id')]),\n",
    "    (infosource, reconall, [(('subject_id', pathfinder, data_dir, T1_identifier), 'T1_files')]),\n",
    "])"
   ]
  },
  {
   "source": [
    "Run workflow."
   ],
   "cell_type": "markdown",
   "metadata": {}
  },
  {
   "cell_type": "code",
   "execution_count": 6,
   "metadata": {},
   "outputs": [],
   "source": [
    "reconflow.run(\n",
    "    \"MultiProc\",\n",
    "    plugin_args={\"n_procs\": 4}\n",
    ")"
   ]
  },
  {
   "source": [
    "## Method 2"
   ],
   "cell_type": "markdown",
   "metadata": {}
  },
  {
   "cell_type": "code",
   "execution_count": 7,
   "metadata": {},
   "outputs": [],
   "source": [
    "import os\n",
    "import nipype.interfaces.spm as spm"
   ]
  },
  {
   "cell_type": "code",
   "execution_count": 12,
   "metadata": {},
   "outputs": [
    {
     "output_type": "error",
     "ename": "RuntimeError",
     "evalue": "Command:\nmatlab -nodesktop -nosplash -singleCompThread -r \"addpath('/home/kaihulme/Projects/medical-gan-local/notebooks');pyscript_segment;exit\"\nStandard output:\n\n                            < M A T L A B (R) >\n                  Copyright 1984-2021 The MathWorks, Inc.\n                  R2021a (9.10.0.1602886) 64-bit (glnxa64)\n                             February 17, 2021\n\n \nTo get started, type doc.\nFor product information, visit www.mathworks.com.\n \nExecuting pyscript_segment at 20-Mar-2021 17:28:28:\n------------------------------------------------------------------------------------------------------------------\nMATLAB Version: 9.10.0.1602886 (R2021a)\nMATLAB License Number: 911639\nOperating System: Linux 5.8.0-7642-generic #47~1614007149~20.04~82fb226-Ubuntu SMP Tue Feb 23 02:56:27 UTC  x86_64\nJava Version: Java 1.8.0_202-b08 with Oracle Corporation Java HotSpot(TM) 64-Bit Server VM mixed mode\n------------------------------------------------------------------------------------------------------------------\nMATLAB                                                Version 9.10        (R2021a)\nStandard error:\nMATLAB code threw an exception:\nSPM not in matlab path\nFile:/home/kaihulme/Projects/medical-gan-local/notebooks/pyscript_segment.m\nName:pyscript_segment\nLine:6\nReturn code: 0",
     "traceback": [
      "\u001b[0;31m---------------------------------------------------------------------------\u001b[0m",
      "\u001b[0;31mRuntimeError\u001b[0m                              Traceback (most recent call last)",
      "\u001b[0;32m<ipython-input-12-d65fc4f09d85>\u001b[0m in \u001b[0;36m<module>\u001b[0;34m\u001b[0m\n\u001b[1;32m      1\u001b[0m \u001b[0mseg\u001b[0m \u001b[0;34m=\u001b[0m \u001b[0mspm\u001b[0m\u001b[0;34m.\u001b[0m\u001b[0mSegment\u001b[0m\u001b[0;34m(\u001b[0m\u001b[0mdata\u001b[0m\u001b[0;34m=\u001b[0m\u001b[0;34m[\u001b[0m\u001b[0;34m\"/mnt/HDD/Data/test/data/subject_01.nii\"\u001b[0m\u001b[0;34m]\u001b[0m\u001b[0;34m)\u001b[0m\u001b[0;34m\u001b[0m\u001b[0;34m\u001b[0m\u001b[0m\n\u001b[1;32m      2\u001b[0m \u001b[0;31m# seg.inputs.data = os.path.commonpath(\"mnt/HDD/Data/test/data/subject_01.nii\")\u001b[0m\u001b[0;34m\u001b[0m\u001b[0;34m\u001b[0m\u001b[0;34m\u001b[0m\u001b[0m\n\u001b[0;32m----> 3\u001b[0;31m \u001b[0mseg\u001b[0m\u001b[0;34m.\u001b[0m\u001b[0mrun\u001b[0m\u001b[0;34m(\u001b[0m\u001b[0;34m)\u001b[0m\u001b[0;34m\u001b[0m\u001b[0;34m\u001b[0m\u001b[0m\n\u001b[0m",
      "\u001b[0;32m~/anaconda3/envs/ds/lib/python3.9/site-packages/nipype/interfaces/base/core.py\u001b[0m in \u001b[0;36mrun\u001b[0;34m(self, cwd, ignore_exception, **inputs)\u001b[0m\n\u001b[1;32m    432\u001b[0m         \u001b[0;32mtry\u001b[0m\u001b[0;34m:\u001b[0m\u001b[0;34m\u001b[0m\u001b[0;34m\u001b[0m\u001b[0m\n\u001b[1;32m    433\u001b[0m             \u001b[0mruntime\u001b[0m \u001b[0;34m=\u001b[0m \u001b[0mself\u001b[0m\u001b[0;34m.\u001b[0m\u001b[0m_pre_run_hook\u001b[0m\u001b[0;34m(\u001b[0m\u001b[0mruntime\u001b[0m\u001b[0;34m)\u001b[0m\u001b[0;34m\u001b[0m\u001b[0;34m\u001b[0m\u001b[0m\n\u001b[0;32m--> 434\u001b[0;31m             \u001b[0mruntime\u001b[0m \u001b[0;34m=\u001b[0m \u001b[0mself\u001b[0m\u001b[0;34m.\u001b[0m\u001b[0m_run_interface\u001b[0m\u001b[0;34m(\u001b[0m\u001b[0mruntime\u001b[0m\u001b[0;34m)\u001b[0m\u001b[0;34m\u001b[0m\u001b[0;34m\u001b[0m\u001b[0m\n\u001b[0m\u001b[1;32m    435\u001b[0m             \u001b[0mruntime\u001b[0m \u001b[0;34m=\u001b[0m \u001b[0mself\u001b[0m\u001b[0;34m.\u001b[0m\u001b[0m_post_run_hook\u001b[0m\u001b[0;34m(\u001b[0m\u001b[0mruntime\u001b[0m\u001b[0;34m)\u001b[0m\u001b[0;34m\u001b[0m\u001b[0;34m\u001b[0m\u001b[0m\n\u001b[1;32m    436\u001b[0m             \u001b[0moutputs\u001b[0m \u001b[0;34m=\u001b[0m \u001b[0mself\u001b[0m\u001b[0;34m.\u001b[0m\u001b[0maggregate_outputs\u001b[0m\u001b[0;34m(\u001b[0m\u001b[0mruntime\u001b[0m\u001b[0;34m)\u001b[0m\u001b[0;34m\u001b[0m\u001b[0;34m\u001b[0m\u001b[0m\n",
      "\u001b[0;32m~/anaconda3/envs/ds/lib/python3.9/site-packages/nipype/interfaces/spm/base.py\u001b[0m in \u001b[0;36m_run_interface\u001b[0;34m(self, runtime)\u001b[0m\n\u001b[1;32m    385\u001b[0m             \u001b[0mdeepcopy\u001b[0m\u001b[0;34m(\u001b[0m\u001b[0mself\u001b[0m\u001b[0;34m.\u001b[0m\u001b[0m_parse_inputs\u001b[0m\u001b[0;34m(\u001b[0m\u001b[0;34m)\u001b[0m\u001b[0;34m)\u001b[0m\u001b[0;34m\u001b[0m\u001b[0;34m\u001b[0m\u001b[0m\n\u001b[1;32m    386\u001b[0m         )\n\u001b[0;32m--> 387\u001b[0;31m         \u001b[0mresults\u001b[0m \u001b[0;34m=\u001b[0m \u001b[0mself\u001b[0m\u001b[0;34m.\u001b[0m\u001b[0mmlab\u001b[0m\u001b[0;34m.\u001b[0m\u001b[0mrun\u001b[0m\u001b[0;34m(\u001b[0m\u001b[0;34m)\u001b[0m\u001b[0;34m\u001b[0m\u001b[0;34m\u001b[0m\u001b[0m\n\u001b[0m\u001b[1;32m    388\u001b[0m         \u001b[0mruntime\u001b[0m\u001b[0;34m.\u001b[0m\u001b[0mreturncode\u001b[0m \u001b[0;34m=\u001b[0m \u001b[0mresults\u001b[0m\u001b[0;34m.\u001b[0m\u001b[0mruntime\u001b[0m\u001b[0;34m.\u001b[0m\u001b[0mreturncode\u001b[0m\u001b[0;34m\u001b[0m\u001b[0;34m\u001b[0m\u001b[0m\n\u001b[1;32m    389\u001b[0m         \u001b[0;32mif\u001b[0m \u001b[0mself\u001b[0m\u001b[0;34m.\u001b[0m\u001b[0mmlab\u001b[0m\u001b[0;34m.\u001b[0m\u001b[0minputs\u001b[0m\u001b[0;34m.\u001b[0m\u001b[0muses_mcr\u001b[0m\u001b[0;34m:\u001b[0m\u001b[0;34m\u001b[0m\u001b[0;34m\u001b[0m\u001b[0m\n",
      "\u001b[0;32m~/anaconda3/envs/ds/lib/python3.9/site-packages/nipype/interfaces/base/core.py\u001b[0m in \u001b[0;36mrun\u001b[0;34m(self, cwd, ignore_exception, **inputs)\u001b[0m\n\u001b[1;32m    432\u001b[0m         \u001b[0;32mtry\u001b[0m\u001b[0;34m:\u001b[0m\u001b[0;34m\u001b[0m\u001b[0;34m\u001b[0m\u001b[0m\n\u001b[1;32m    433\u001b[0m             \u001b[0mruntime\u001b[0m \u001b[0;34m=\u001b[0m \u001b[0mself\u001b[0m\u001b[0;34m.\u001b[0m\u001b[0m_pre_run_hook\u001b[0m\u001b[0;34m(\u001b[0m\u001b[0mruntime\u001b[0m\u001b[0;34m)\u001b[0m\u001b[0;34m\u001b[0m\u001b[0;34m\u001b[0m\u001b[0m\n\u001b[0;32m--> 434\u001b[0;31m             \u001b[0mruntime\u001b[0m \u001b[0;34m=\u001b[0m \u001b[0mself\u001b[0m\u001b[0;34m.\u001b[0m\u001b[0m_run_interface\u001b[0m\u001b[0;34m(\u001b[0m\u001b[0mruntime\u001b[0m\u001b[0;34m)\u001b[0m\u001b[0;34m\u001b[0m\u001b[0;34m\u001b[0m\u001b[0m\n\u001b[0m\u001b[1;32m    435\u001b[0m             \u001b[0mruntime\u001b[0m \u001b[0;34m=\u001b[0m \u001b[0mself\u001b[0m\u001b[0;34m.\u001b[0m\u001b[0m_post_run_hook\u001b[0m\u001b[0;34m(\u001b[0m\u001b[0mruntime\u001b[0m\u001b[0;34m)\u001b[0m\u001b[0;34m\u001b[0m\u001b[0;34m\u001b[0m\u001b[0m\n\u001b[1;32m    436\u001b[0m             \u001b[0moutputs\u001b[0m \u001b[0;34m=\u001b[0m \u001b[0mself\u001b[0m\u001b[0;34m.\u001b[0m\u001b[0maggregate_outputs\u001b[0m\u001b[0;34m(\u001b[0m\u001b[0mruntime\u001b[0m\u001b[0;34m)\u001b[0m\u001b[0;34m\u001b[0m\u001b[0;34m\u001b[0m\u001b[0m\n",
      "\u001b[0;32m~/anaconda3/envs/ds/lib/python3.9/site-packages/nipype/interfaces/matlab.py\u001b[0m in \u001b[0;36m_run_interface\u001b[0;34m(self, runtime)\u001b[0m\n\u001b[1;32m    176\u001b[0m             \u001b[0;32mpass\u001b[0m\u001b[0;34m\u001b[0m\u001b[0;34m\u001b[0m\u001b[0m\n\u001b[1;32m    177\u001b[0m         \u001b[0;32mif\u001b[0m \u001b[0;34m\"MATLAB code threw an exception\"\u001b[0m \u001b[0;32min\u001b[0m \u001b[0mruntime\u001b[0m\u001b[0;34m.\u001b[0m\u001b[0mstderr\u001b[0m\u001b[0;34m:\u001b[0m\u001b[0;34m\u001b[0m\u001b[0;34m\u001b[0m\u001b[0m\n\u001b[0;32m--> 178\u001b[0;31m             \u001b[0mself\u001b[0m\u001b[0;34m.\u001b[0m\u001b[0mraise_exception\u001b[0m\u001b[0;34m(\u001b[0m\u001b[0mruntime\u001b[0m\u001b[0;34m)\u001b[0m\u001b[0;34m\u001b[0m\u001b[0;34m\u001b[0m\u001b[0m\n\u001b[0m\u001b[1;32m    179\u001b[0m         \u001b[0;32mreturn\u001b[0m \u001b[0mruntime\u001b[0m\u001b[0;34m\u001b[0m\u001b[0;34m\u001b[0m\u001b[0m\n\u001b[1;32m    180\u001b[0m \u001b[0;34m\u001b[0m\u001b[0m\n",
      "\u001b[0;32m~/anaconda3/envs/ds/lib/python3.9/site-packages/nipype/interfaces/base/core.py\u001b[0m in \u001b[0;36mraise_exception\u001b[0;34m(self, runtime)\u001b[0m\n\u001b[1;32m    754\u001b[0m \u001b[0;34m\u001b[0m\u001b[0m\n\u001b[1;32m    755\u001b[0m     \u001b[0;32mdef\u001b[0m \u001b[0mraise_exception\u001b[0m\u001b[0;34m(\u001b[0m\u001b[0mself\u001b[0m\u001b[0;34m,\u001b[0m \u001b[0mruntime\u001b[0m\u001b[0;34m)\u001b[0m\u001b[0;34m:\u001b[0m\u001b[0;34m\u001b[0m\u001b[0;34m\u001b[0m\u001b[0m\n\u001b[0;32m--> 756\u001b[0;31m         raise RuntimeError(\n\u001b[0m\u001b[1;32m    757\u001b[0m             (\n\u001b[1;32m    758\u001b[0m                 \u001b[0;34m\"Command:\\n{cmdline}\\nStandard output:\\n{stdout}\\n\"\u001b[0m\u001b[0;34m\u001b[0m\u001b[0;34m\u001b[0m\u001b[0m\n",
      "\u001b[0;31mRuntimeError\u001b[0m: Command:\nmatlab -nodesktop -nosplash -singleCompThread -r \"addpath('/home/kaihulme/Projects/medical-gan-local/notebooks');pyscript_segment;exit\"\nStandard output:\n\n                            < M A T L A B (R) >\n                  Copyright 1984-2021 The MathWorks, Inc.\n                  R2021a (9.10.0.1602886) 64-bit (glnxa64)\n                             February 17, 2021\n\n \nTo get started, type doc.\nFor product information, visit www.mathworks.com.\n \nExecuting pyscript_segment at 20-Mar-2021 17:28:28:\n------------------------------------------------------------------------------------------------------------------\nMATLAB Version: 9.10.0.1602886 (R2021a)\nMATLAB License Number: 911639\nOperating System: Linux 5.8.0-7642-generic #47~1614007149~20.04~82fb226-Ubuntu SMP Tue Feb 23 02:56:27 UTC  x86_64\nJava Version: Java 1.8.0_202-b08 with Oracle Corporation Java HotSpot(TM) 64-Bit Server VM mixed mode\n------------------------------------------------------------------------------------------------------------------\nMATLAB                                                Version 9.10        (R2021a)\nStandard error:\nMATLAB code threw an exception:\nSPM not in matlab path\nFile:/home/kaihulme/Projects/medical-gan-local/notebooks/pyscript_segment.m\nName:pyscript_segment\nLine:6\nReturn code: 0"
     ]
    }
   ],
   "source": [
    "seg = spm.Segment(data=[\"/mnt/HDD/Data/test/data/subject_01.nii\"])\n",
    "# seg.inputs.data = os.path.commonpath(\"mnt/HDD/Data/test/data/subject_01.nii\")\n",
    "seg.run()"
   ]
  }
 ]
}